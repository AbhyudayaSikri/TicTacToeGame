{
 "cells": [
  {
   "cell_type": "code",
   "execution_count": 36,
   "id": "91ca454e",
   "metadata": {},
   "outputs": [],
   "source": [
    "def PrintBoard(mylist):\n",
    "    for num in range(0,3):\n",
    "        for num1 in range(0,3):\n",
    "            if num1 != 2:\n",
    "                print(f'{mylist[num*3+num1]}|',end=\"\")\n",
    "            else:\n",
    "                print(mylist[num*3+num1])"
   ]
  },
  {
   "cell_type": "code",
   "execution_count": 37,
   "id": "964bc66e",
   "metadata": {},
   "outputs": [],
   "source": [
    "def generatelist():\n",
    "    mylist=[]\n",
    "    for num in range(0,3):\n",
    "        for num1 in range(0,3):\n",
    "            mylist.append(' ')\n",
    "    return mylist"
   ]
  },
  {
   "cell_type": "code",
   "execution_count": 38,
   "id": "cea9aca2",
   "metadata": {
    "scrolled": false
   },
   "outputs": [
    {
     "name": "stdout",
     "output_type": "stream",
     "text": [
      " | | \n",
      " | | \n",
      " | | \n"
     ]
    }
   ],
   "source": [
    "PrintBoard(generatelist())"
   ]
  },
  {
   "cell_type": "code",
   "execution_count": 63,
   "id": "a789b9a2",
   "metadata": {},
   "outputs": [],
   "source": [
    "def getuserinput(mylist,a):\n",
    "    num=int(input('Enter the place at which you want you want your marker placed'))\n",
    "    while mylist[num-1] == 'O' or mylist[num-1]=='X' or num>9 or num<1:\n",
    "        num=int(input('Error invalid input'))\n",
    "    mylist[num-1]=a\n",
    "    return mylist"
   ]
  },
  {
   "cell_type": "code",
   "execution_count": 64,
   "id": "b9ab81d8",
   "metadata": {},
   "outputs": [],
   "source": [
    "def checkwin(mylist):\n",
    "    for num in range(0,3):\n",
    "        if mylist[3*num]==mylist[3*num+1] and mylist[3*num]==mylist[3*num+2] and mylist[3*num]!=' ':\n",
    "            return True\n",
    "        if mylist[num+3]==mylist[num] and mylist[num+6]==mylist[num] and mylist[num]!=' ':\n",
    "            return True\n",
    "    if ((mylist[8]==mylist[4] and mylist[0]==mylist[8] and mylist[4]!=' ') or (mylist[6]==mylist[4] and mylist[4]==mylist[2] and mylist[4]!=' ') and mylist[4]!=' '):\n",
    "        return True\n",
    "    return False"
   ]
  },
  {
   "cell_type": "code",
   "execution_count": 68,
   "id": "f2626736",
   "metadata": {},
   "outputs": [],
   "source": [
    "def menu():\n",
    "    mylist=generatelist()\n",
    "    PrintBoard(mylist)\n",
    "    controlvar=0\n",
    "    marker=''\n",
    "    while(checkwin(mylist)!=True and controlvar<9):\n",
    "        if(controlvar%2==0):\n",
    "            marker='X'\n",
    "        else:\n",
    "            marker='O'\n",
    "        mylist=getuserinput(mylist,marker)\n",
    "        PrintBoard(mylist)\n",
    "        controlvar=controlvar+1\n",
    "    if(checkwin(mylist) and controlvar%2==0 and controlvar<9):\n",
    "        print(\"O has won\")\n",
    "    elif (checkwin(mylist) and controlvar%2!=0 and controlvar<9):\n",
    "        print(\"X has won\")\n",
    "    else:\n",
    "        print(\"Draw\")"
   ]
  },
  {
   "cell_type": "code",
   "execution_count": 69,
   "id": "9fecd853",
   "metadata": {
    "scrolled": false
   },
   "outputs": [
    {
     "name": "stdout",
     "output_type": "stream",
     "text": [
      " | | \n",
      " | | \n",
      " | | \n",
      "Enter the place at which you want you want your marker placed4\n",
      " | | \n",
      "X| | \n",
      " | | \n",
      "Enter the place at which you want you want your marker placed9\n",
      " | | \n",
      "X| | \n",
      " | |O\n",
      "Enter the place at which you want you want your marker placed3\n",
      " | |X\n",
      "X| | \n",
      " | |O\n",
      "Enter the place at which you want you want your marker placed1\n",
      "O| |X\n",
      "X| | \n",
      " | |O\n",
      "Enter the place at which you want you want your marker placed5\n",
      "O| |X\n",
      "X|X| \n",
      " | |O\n",
      "Enter the place at which you want you want your marker placed6\n",
      "O| |X\n",
      "X|X|O\n",
      " | |O\n",
      "Enter the place at which you want you want your marker placed7\n",
      "O| |X\n",
      "X|X|O\n",
      "X| |O\n",
      "X has won\n"
     ]
    }
   ],
   "source": [
    "menu()"
   ]
  },
  {
   "cell_type": "code",
   "execution_count": null,
   "id": "1e0fe481",
   "metadata": {},
   "outputs": [],
   "source": []
  },
  {
   "cell_type": "code",
   "execution_count": null,
   "id": "33b1b305",
   "metadata": {},
   "outputs": [],
   "source": []
  },
  {
   "cell_type": "code",
   "execution_count": null,
   "id": "6a1ed96c",
   "metadata": {},
   "outputs": [],
   "source": []
  },
  {
   "cell_type": "code",
   "execution_count": null,
   "id": "1b6333b0",
   "metadata": {},
   "outputs": [],
   "source": []
  }
 ],
 "metadata": {
  "kernelspec": {
   "display_name": "Python 3 (ipykernel)",
   "language": "python",
   "name": "python3"
  },
  "language_info": {
   "codemirror_mode": {
    "name": "ipython",
    "version": 3
   },
   "file_extension": ".py",
   "mimetype": "text/x-python",
   "name": "python",
   "nbconvert_exporter": "python",
   "pygments_lexer": "ipython3",
   "version": "3.11.5"
  }
 },
 "nbformat": 4,
 "nbformat_minor": 5
}
